{
 "cells": [
  {
   "cell_type": "code",
   "execution_count": 1,
   "metadata": {},
   "outputs": [],
   "source": [
    "import time\n",
    "import facebook_scraper as fs\n",
    "from collections import Counter\n"
   ]
  },
  {
   "cell_type": "code",
   "execution_count": 2,
   "metadata": {},
   "outputs": [],
   "source": [
    "COOKIES = 'www.facebook.com_cookies.txt'"
   ]
  },
  {
   "cell_type": "code",
   "execution_count": 3,
   "metadata": {},
   "outputs": [],
   "source": [
    "def get_post_lst(group_id, max_post_num):\n",
    "    seen_post_ids = set()\n",
    "    posts_lst = []\n",
    "\n",
    "    for post in fs.get_posts(group=group_id, cookies=COOKIES, page_limit=None):\n",
    "        if post[\"post_id\"] not in seen_post_ids:\n",
    "            time_str = post[\"time\"].strftime(\"%Y-%m-%d %H:%M:%S\")\n",
    "            posts_lst.append({\n",
    "                \"post_id\": post[\"post_id\"],\n",
    "                \"time\": time_str\n",
    "            })\n",
    "        seen_post_ids.add(post[\"post_id\"])\n",
    "        print(post[\"post_id\"])\n",
    "\n",
    "        if len(seen_post_ids) > max_post_num:\n",
    "            break\n",
    "\n",
    "    return posts_lst\n"
   ]
  },
  {
   "cell_type": "code",
   "execution_count": 4,
   "metadata": {},
   "outputs": [
    {
     "name": "stderr",
     "output_type": "stream",
     "text": [
      "c:\\Users\\fuhsiao\\AppData\\Local\\Programs\\Python\\Python38\\lib\\site-packages\\facebook_scraper\\facebook_scraper.py:855: UserWarning: Facebook language detected as zh_TW - for best results, set to en_US\n",
      "  warnings.warn(\n"
     ]
    },
    {
     "name": "stdout",
     "output_type": "stream",
     "text": [
      "1453403678833525\n",
      "1455366195303940\n",
      "1454965205344039\n",
      "1454915888682304\n",
      "1454806702026556\n",
      "1454627282044498\n",
      "1448647462642480\n",
      "1455343058639587\n",
      "1453403678833525\n",
      "1455362208637672\n",
      "1455312898642603\n",
      "1454650535375506\n"
     ]
    }
   ],
   "source": [
    "post_list = get_post_lst('python', 10)"
   ]
  },
  {
   "cell_type": "code",
   "execution_count": 5,
   "metadata": {},
   "outputs": [
    {
     "data": {
      "text/plain": [
       "[{'post_id': '1453403678833525', 'time': '2023-06-24 15:39:28'},\n",
       " {'post_id': '1455366195303940', 'time': '2023-06-28 03:33:34'},\n",
       " {'post_id': '1454965205344039', 'time': '2023-06-27 11:33:40'},\n",
       " {'post_id': '1454915888682304', 'time': '2023-06-27 09:18:02'},\n",
       " {'post_id': '1454806702026556', 'time': '2023-06-27 03:32:10'},\n",
       " {'post_id': '1454627282044498', 'time': '2023-06-26 20:25:58'},\n",
       " {'post_id': '1448647462642480', 'time': '2023-06-16 01:47:20'},\n",
       " {'post_id': '1455343058639587', 'time': '2023-06-28 02:26:56'},\n",
       " {'post_id': '1455362208637672', 'time': '2023-06-28 03:21:31'},\n",
       " {'post_id': '1455312898642603', 'time': '2023-06-28 01:15:54'},\n",
       " {'post_id': '1454650535375506', 'time': '2023-06-26 21:18:17'}]"
      ]
     },
     "execution_count": 5,
     "metadata": {},
     "output_type": "execute_result"
    }
   ],
   "source": [
    "post_list"
   ]
  }
 ],
 "metadata": {
  "kernelspec": {
   "display_name": "Python 3",
   "language": "python",
   "name": "python3"
  },
  "language_info": {
   "codemirror_mode": {
    "name": "ipython",
    "version": 3
   },
   "file_extension": ".py",
   "mimetype": "text/x-python",
   "name": "python",
   "nbconvert_exporter": "python",
   "pygments_lexer": "ipython3",
   "version": "3.8.5"
  },
  "orig_nbformat": 4
 },
 "nbformat": 4,
 "nbformat_minor": 2
}
