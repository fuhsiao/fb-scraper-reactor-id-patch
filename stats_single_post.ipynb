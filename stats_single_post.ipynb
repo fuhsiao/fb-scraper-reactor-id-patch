{
 "cells": [
  {
   "attachments": {},
   "cell_type": "markdown",
   "metadata": {},
   "source": [
    "### Get the statistics of a single post  \n",
    "+ 發文者 - poster_id\n",
    "+ 評論者計數 - commenter_ids \n",
    "+ 反應者計數 - reactor_ids"
   ]
  },
  {
   "cell_type": "code",
   "execution_count": 12,
   "metadata": {},
   "outputs": [],
   "source": [
    "import facebook_scraper as fs\n",
    "from collections import Counter"
   ]
  },
  {
   "cell_type": "code",
   "execution_count": 13,
   "metadata": {},
   "outputs": [],
   "source": [
    "MAX_COMMENTS = True\n",
    "COOKIES = 'www.facebook.com_cookies.txt'"
   ]
  },
  {
   "cell_type": "code",
   "execution_count": 14,
   "metadata": {},
   "outputs": [],
   "source": [
    "def calc_commenter(cmt, commenter_ids):\n",
    "    commenter_ids[cmt['commenter_id']] += 1\n",
    "\n",
    "\n",
    "def calc_reactor(rcts, reactor_ids):\n",
    "    for rct in rcts:\n",
    "        reactor_ids[rct['reactor_id']] += 1\n",
    "\n",
    "\n",
    "def post_stats(post_id):\n",
    "\n",
    "    # get the post (this gives a generator)\n",
    "    gen = fs.get_posts(\n",
    "        post_urls=[post_id],\n",
    "        cookies=COOKIES,\n",
    "        options={\"comments\": MAX_COMMENTS, \"reactors\": True}\n",
    "    )\n",
    "\n",
    "    # take 1st element of the generator which is the post we requested\n",
    "    post = next(gen)\n",
    "\n",
    "    # assign stats units\n",
    "    poster_id = post['user_id']\n",
    "    commenter_ids = Counter()\n",
    "    reactor_ids = Counter()\n",
    "\n",
    "    # reaction (for post)\n",
    "    calc_reactor(post['reactors'], reactor_ids) \n",
    "\n",
    "    # comment (for post)\n",
    "    # reaction (for comment)\n",
    "    cmts = post['comments_full']\n",
    "    for cmt in cmts:\n",
    "        calc_commenter(cmt, commenter_ids)\n",
    "        calc_reactor(cmt['comment_reactors'], reactor_ids)\n",
    "        for re in cmt['replies']:\n",
    "            calc_commenter(re, commenter_ids)\n",
    "            calc_reactor(re['comment_reactors'], reactor_ids)\n",
    "    \n",
    "    return poster_id, commenter_ids, reactor_ids"
   ]
  },
  {
   "attachments": {},
   "cell_type": "markdown",
   "metadata": {},
   "source": [
    "#### Example test  "
   ]
  },
  {
   "cell_type": "code",
   "execution_count": 15,
   "metadata": {},
   "outputs": [],
   "source": [
    "# https://m.facebook.com/groups/python/permalink/1453403678833525"
   ]
  },
  {
   "cell_type": "code",
   "execution_count": 16,
   "metadata": {},
   "outputs": [
    {
     "name": "stdout",
     "output_type": "stream",
     "text": [
      "發文者:  100026224234527\n",
      "評論計數:  Counter({'100085894517963': 2, '100089704909573': 2, '100026224234527': 2, '100001177415316': 2, '100003502675716': 1, '100013414364133': 1, '100093154903445': 1, '1163530803': 1, '1096440191': 1, '100003682189096': 1, '100010042593294': 1, '100000056946495': 1, '1139118646': 1, '100001396808812': 1, '100078713574211': 1, '100001971176872': 1, '100037337003371': 1, '100030382610302': 1, '100059131621118': 1, '519314542': 1, '1399157537': 1, '100089004758749': 1, '1215966306': 1, '100062176515490': 1, '643490464': 1})\n",
      "反應計數:  Counter({'270834543757117': 13, '100094185782627': 2, '100093837468225': 1, '100093549174457': 1, '100093540353927': 1, '100092288889732': 1, '100092032867637': 1, '100091647434608': 1, '100090992821931': 1, '100087896445608': 1, '100082762711475': 1, '100079954586579': 1, '100074871356155': 1, '100068813170538': 1, '100024097732165': 1, '100012582348609': 1, '100009744422726': 1, '100008780791642': 1, '100008300381592': 1, '100007880658700': 1, '100004624452982': 1, '100003953254913': 1, '100002029986885': 1, '100001600233117': 1, '100001404966034': 1, '100001348398456': 1, '100000187671257': 1, '100065325074111': 1, '100053733823890': 1, '100055173810412': 1, '100042184970403': 1, '100028798394277': 1, '100002974227707': 1, '1795486622': 1, '100093484937412': 1, '100086102710083': 1, '100026224234527': 1, '100027022700682': 1, '100089704909573': 1, '1506247854': 1, '100087636259356': 1, '100001177415316': 1})\n"
     ]
    }
   ],
   "source": [
    "POST_ID = '1453403678833525'\n",
    "poster_id, commenter_ids, reactor_ids = post_stats(POST_ID)\n",
    "\n",
    "print('發文者: ', poster_id)\n",
    "print('評論計數: ', commenter_ids)\n",
    "print('反應計數: ', reactor_ids)"
   ]
  },
  {
   "attachments": {},
   "cell_type": "markdown",
   "metadata": {},
   "source": [
    "#### **注意! 請先修改 facebook_scraper > extractors.py**\n",
    "修改 extract_reactors 回傳 原本沒有的 reactor_id  \n",
    "+ 請於 694 行左右，改動程式碼如下:  "
   ]
  },
  {
   "cell_type": "code",
   "execution_count": 17,
   "metadata": {},
   "outputs": [],
   "source": [
    "# elem_ = elem.find(f\"div>div>div>div._4mq.ext a\", first=True)\n",
    "# if elem_ :\n",
    "#     reactor_id = str(elem_.attrs.get(\"id\")).split('_')[-1]\n",
    "# else:\n",
    "#     url = elem.find(\"a\", first=True).attrs.get(\"href\")\n",
    "#     reactor_id = re.search(r\"id=(\\d+)\", url).group(1) if re.search(r\"id=(\\d+)\", url) else None\n",
    "\n",
    "# yield {\n",
    "#     \"reactor_id\": reactor_id,\n",
    "#     \"name\": elem.find(\"strong\", first=True).text,\n",
    "#     \"link\": utils.urljoin(FB_BASE_URL, elem.find(\"a\", first=True).attrs.get(\"href\")),\n",
    "#     \"type\": reaction_type,\n",
    "# }"
   ]
  },
  {
   "attachments": {},
   "cell_type": "markdown",
   "metadata": {},
   "source": [
    "#### **注意! 請使用新創的空帳戶，避免產生例外狀況**  \n",
    "+ 如果 reactor 為好友/擁有共同好友，會出現 傳訊息/加好友 等按鈕，導致爬取格式不一"
   ]
  }
 ],
 "metadata": {
  "kernelspec": {
   "display_name": "Python 3",
   "language": "python",
   "name": "python3"
  },
  "language_info": {
   "codemirror_mode": {
    "name": "ipython",
    "version": 3
   },
   "file_extension": ".py",
   "mimetype": "text/x-python",
   "name": "python",
   "nbconvert_exporter": "python",
   "pygments_lexer": "ipython3",
   "version": "3.8.5"
  },
  "orig_nbformat": 4
 },
 "nbformat": 4,
 "nbformat_minor": 2
}
